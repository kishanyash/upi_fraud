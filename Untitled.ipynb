{
 "cells": [
  {
   "cell_type": "code",
   "execution_count": 9,
   "id": "389ddfbe-2745-47cc-b935-195180907230",
   "metadata": {},
   "outputs": [
    {
     "name": "stdout",
     "output_type": "stream",
     "text": [
      "Requirement already satisfied: xgboost in c:\\users\\prati\\anaconda3\\lib\\site-packages (2.1.4)\n",
      "Requirement already satisfied: numpy in c:\\users\\prati\\anaconda3\\lib\\site-packages (from xgboost) (1.26.4)\n",
      "Requirement already satisfied: scipy in c:\\users\\prati\\anaconda3\\lib\\site-packages (from xgboost) (1.13.1)\n"
     ]
    }
   ],
   "source": [
    "!pip install xgboost"
   ]
  },
  {
   "cell_type": "code",
   "execution_count": 10,
   "id": "02652154-d7b4-4875-a0d7-214ec74b7761",
   "metadata": {},
   "outputs": [
    {
     "name": "stdout",
     "output_type": "stream",
     "text": [
      "Requirement already satisfied: lightgbm in c:\\users\\prati\\anaconda3\\lib\\site-packages (4.6.0)\n",
      "Requirement already satisfied: numpy>=1.17.0 in c:\\users\\prati\\anaconda3\\lib\\site-packages (from lightgbm) (1.26.4)\n",
      "Requirement already satisfied: scipy in c:\\users\\prati\\anaconda3\\lib\\site-packages (from lightgbm) (1.13.1)\n"
     ]
    }
   ],
   "source": [
    "!pip install lightgbm"
   ]
  },
  {
   "cell_type": "code",
   "execution_count": 11,
   "id": "8a933ebd-7324-4de5-b89c-75f2263d6770",
   "metadata": {},
   "outputs": [],
   "source": [
    "import pandas as pd\n",
    "import numpy as np\n",
    "import joblib"
   ]
  },
  {
   "cell_type": "code",
   "execution_count": 12,
   "id": "acd6dcd0-1e94-497b-9c8b-b464b6a8d8f2",
   "metadata": {},
   "outputs": [],
   "source": [
    "from sklearn.model_selection import train_test_split, GridSearchCV\n",
    "from sklearn.preprocessing import StandardScaler\n",
    "from imblearn.over_sampling import SMOTE  # Install: pip install imbalanced-learn"
   ]
  },
  {
   "cell_type": "code",
   "execution_count": 13,
   "id": "aafe3d24-5203-4045-93b9-8b2290e6bc2c",
   "metadata": {},
   "outputs": [],
   "source": [
    "from sklearn.linear_model import LogisticRegression\n",
    "from sklearn.metrics import accuracy_score, classification_report, roc_auc_score"
   ]
  },
  {
   "cell_type": "code",
   "execution_count": 14,
   "id": "2755e401-be74-45da-bccc-89623fa6d8f2",
   "metadata": {},
   "outputs": [],
   "source": [
    "df_sample = pd.read_csv(\"OneDrive/Desktop/NPCI_Project/processed_data.csv\")\n",
    "\n",
    "if \"Is Fraud?\" not in df_sample.columns:\n",
    "    raise ValueError(\"Target column 'Is Fraud?' is missing!\")\n",
    "\n",
    "X = df_sample.drop(columns=[\"Is Fraud?\"])\n",
    "y = df_sample[\"Is Fraud?\"]\n",
    "\n",
    "# Spliting Data\n",
    "X_train, X_test, y_train, y_test = train_test_split(X, y, test_size=0.2, random_state=42, stratify=y)\n",
    "\n",
    "# Appling SMOTE to balance the dataset\n",
    "smote = SMOTE(sampling_strategy=1.0, random_state=42)  # Adjust ratio if needed\n",
    "X_train, y_train = smote.fit_resample(X_train, y_train)\n",
    "\n",
    "# Feature Scaling\n",
    "scaler = StandardScaler()\n",
    "X_train_scaled = scaler.fit_transform(X_train)\n",
    "X_test_scaled = scaler.transform(X_test)\n",
    "\n",
    "# Selected Models & Hyperparameters\n",
    "models = {\n",
    "    \"Logistic Regression\": (LogisticRegression(class_weight='balanced'), {\n",
    "        \"C\": [0.1, 1, 10],\n",
    "        \"solver\": [\"liblinear\"]\n",
    "    })\n",
    "\n",
    "}"
   ]
  },
  {
   "cell_type": "code",
   "execution_count": 15,
   "id": "661f758b-85d7-48db-8a26-b16aec7e9dc2",
   "metadata": {},
   "outputs": [
    {
     "name": "stdout",
     "output_type": "stream",
     "text": [
      "\n",
      "Training Logistic Regression with Hyperparameter Tuning...\n",
      "\n",
      "Best Model for Logistic Regression: {'C': 10, 'solver': 'liblinear'}\n",
      "Accuracy: 0.9046\n",
      "ROC-AUC Score: 0.9147\n",
      "Classification Report:\n",
      "              precision    recall  f1-score   support\n",
      "\n",
      "           0       1.00      0.90      0.95    487131\n",
      "           1       0.01      0.77      0.02       607\n",
      "\n",
      "    accuracy                           0.90    487738\n",
      "   macro avg       0.50      0.84      0.48    487738\n",
      "weighted avg       1.00      0.90      0.95    487738\n",
      "\n",
      "\n",
      "Model training & hyperparameter tuning completed. Best models saved.\n"
     ]
    }
   ],
   "source": [
    "# Training & Evaluating Models\n",
    "best_models = {}\n",
    "\n",
    "for name, (model, params) in models.items():\n",
    "    print(f\"\\nTraining {name} with Hyperparameter Tuning...\")\n",
    "\n",
    "    grid_search = GridSearchCV(model, params, cv=3, scoring=\"roc_auc\", n_jobs=-1)\n",
    "    grid_search.fit(X_train_scaled, y_train)\n",
    "\n",
    "    best_model = grid_search.best_estimator_\n",
    "    best_models[name] = best_model\n",
    "\n",
    "    y_pred = best_model.predict(X_test_scaled)\n",
    "    y_prob = best_model.predict_proba(X_test_scaled)[:, 1]\n",
    "\n",
    "    print(f\"\\nBest Model for {name}: {grid_search.best_params_}\")\n",
    "    print(f\"Accuracy: {accuracy_score(y_test, y_pred):.4f}\")\n",
    "    print(f\"ROC-AUC Score: {roc_auc_score(y_test, y_prob):.4f}\")\n",
    "    print(f\"Classification Report:\\n{classification_report(y_test, y_pred, zero_division=1)}\")\n",
    "\n",
    "#  Best Models\n",
    "for name, model in best_models.items():\n",
    "    joblib.dump(model, f\"best_{name.replace(' ', '_')}.pkl\")\n",
    "\n",
    "print(\"\\nModel training & hyperparameter tuning completed. Best model saved.\")"
   ]
  },
  {
   "cell_type": "code",
   "execution_count": null,
   "id": "2742c1e2-9189-4e8e-a5b8-ba6997f72579",
   "metadata": {},
   "outputs": [],
   "source": []
  }
 ],
 "metadata": {
  "kernelspec": {
   "display_name": "Python [conda env:base] *",
   "language": "python",
   "name": "conda-base-py"
  },
  "language_info": {
   "codemirror_mode": {
    "name": "ipython",
    "version": 3
   },
   "file_extension": ".py",
   "mimetype": "text/x-python",
   "name": "python",
   "nbconvert_exporter": "python",
   "pygments_lexer": "ipython3",
   "version": "3.12.7"
  }
 },
 "nbformat": 4,
 "nbformat_minor": 5
}
